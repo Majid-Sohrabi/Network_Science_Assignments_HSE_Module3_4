{
  "nbformat": 4,
  "nbformat_minor": 0,
  "metadata": {
    "kernelspec": {
      "display_name": "Python 3",
      "language": "python",
      "name": "python3"
    },
    "language_info": {
      "codemirror_mode": {
        "name": "ipython",
        "version": 3
      },
      "file_extension": ".py",
      "mimetype": "text/x-python",
      "name": "python",
      "nbconvert_exporter": "python",
      "pygments_lexer": "ipython3",
      "version": "3.7.4"
    },
    "colab": {
      "name": "NS_HW2_Majid_Sohrabi.ipynb",
      "provenance": []
    }
  },
  "cells": [
    {
      "cell_type": "markdown",
      "metadata": {
        "id": "dp4iGpbwiIJ_"
      },
      "source": [
        "# Assignment — Power Law"
      ]
    },
    {
      "cell_type": "code",
      "metadata": {
        "id": "xnZ8pTVuiIKB"
      },
      "source": [
        "import matplotlib.pyplot as plt\n",
        "import numpy as np\n",
        "import pandas as pd\n",
        "from zlib import adler32\n",
        "import requests\n",
        "import networkx as nx\n",
        "from typing import List\n",
        "import scipy"
      ],
      "execution_count": 1,
      "outputs": []
    },
    {
      "cell_type": "markdown",
      "metadata": {
        "id": "kyDC3lJfiIKC"
      },
      "source": [
        "The PDF of the Power law distribution is \n",
        "\n",
        "$$ p(x) = Cx^{-\\alpha},$$ \n",
        "\n",
        "where $C$ is a normalization constant \n",
        "\n",
        "$$C = \\frac{\\alpha - 1}{x_{\\text{min}}^{-\\alpha + 1}}$$ \n",
        "\n",
        "and $\\alpha>1$ is called an exponent of the distribution. "
      ]
    },
    {
      "cell_type": "code",
      "metadata": {
        "id": "6SUL0m5LiIKC"
      },
      "source": [
        "def power_law_pdf(x, alpha=3.5, x_min=1):\n",
        "    C = (alpha - 1) / x_min ** (1 - alpha)\n",
        "    return C * x ** (-alpha)"
      ],
      "execution_count": 2,
      "outputs": []
    },
    {
      "cell_type": "code",
      "metadata": {
        "id": "sQn-XFfpiIKD",
        "colab": {
          "base_uri": "https://localhost:8080/",
          "height": 281
        },
        "outputId": "8a668f32-12bc-4581-cdde-450dcee769c7"
      },
      "source": [
        "x_space = np.linspace(1, 10, 100)\n",
        "plt.plot(x_space, power_law_pdf(x_space))\n",
        "plt.title('Power Law PDF');"
      ],
      "execution_count": 3,
      "outputs": [
        {
          "output_type": "display_data",
          "data": {
            "image/png": "[encoded data removed]",
            "text/plain": [
              "<Figure size 432x288 with 1 Axes>"
            ]
          },
          "metadata": {
            "tags": [],
            "needs_background": "light"
          }
        }
      ]
    },
    {
      "cell_type": "markdown",
      "metadata": {
        "id": "TzxfxiABiIKD"
      },
      "source": [
        "Let us generate observations from a Power Law RV."
      ]
    },
    {
      "cell_type": "markdown",
      "metadata": {
        "id": "6EqO83qhiIKE"
      },
      "source": [
        "### Task 1. Power law CDF (0.6 point)"
      ]
    },
    {
      "cell_type": "markdown",
      "metadata": {
        "id": "0rFaPXKsiIKE"
      },
      "source": [
        "The first step is to derive CDF of Powel law: $F(x) = P(X \\leq x)$\n",
        "\n",
        "$$F(x) = 1 - \\int_{x}^\\infty p(t) dt.$$\n",
        "\n",
        "Take the integral, derive CDF analytically and write a function `power_law_cdf` with parameters `x`, `alpha` and `x_min`."
      ]
    },
    {
      "cell_type": "code",
      "metadata": {
        "deletable": false,
        "nbgrader": {
          "cell_type": "code",
          "checksum": "dfa3158ba5ebe1454116372e3a44aec9",
          "grade": false,
          "grade_id": "cell-f682e125051975d6",
          "locked": false,
          "schema_version": 3,
          "solution": true,
          "task": false
        },
        "id": "h5HOQqWYiIKF"
      },
      "source": [
        "def power_law_cdf(x, alpha=3.5, x_min=1):\n",
        "    C = (alpha - 1) / x_min ** (1 - alpha)\n",
        "    return 1 + C * 1/(-alpha + 1) * x ** (-alpha + 1)"
      ],
      "execution_count": 4,
      "outputs": []
    },
    {
      "cell_type": "code",
      "metadata": {
        "deletable": false,
        "editable": false,
        "nbgrader": {
          "cell_type": "code",
          "checksum": "f19138c1513bba3faf4d69d651e3643d",
          "grade": true,
          "grade_id": "cell-87d0428f480773c4",
          "locked": true,
          "points": 0.6,
          "schema_version": 3,
          "solution": false,
          "task": false
        },
        "id": "kEEOywReiIKF"
      },
      "source": [
        "assert power_law_cdf(2, 2, 1) == 0.5\n",
        "assert power_law_cdf(10, 2, 1) == 0.9\n",
        "assert adler32(str(power_law_cdf(2, 3, 1)).encode()) == 32571595"
      ],
      "execution_count": 5,
      "outputs": []
    },
    {
      "cell_type": "code",
      "metadata": {
        "id": "TKLIc0BkiIKF",
        "colab": {
          "base_uri": "https://localhost:8080/",
          "height": 281
        },
        "outputId": "aa12aff8-9357-4803-82fa-69c093896cf8"
      },
      "source": [
        "x_space = np.linspace(1, 10, 100)\n",
        "plt.plot(x_space, power_law_cdf(x_space))\n",
        "plt.title('Power Law CDF');"
      ],
      "execution_count": 6,
      "outputs": [
        {
          "output_type": "display_data",
          "data": {
            "image/png": "[encoded data removed]",
            "text/plain": [
              "<Figure size 432x288 with 1 Axes>"
            ]
          },
          "metadata": {
            "tags": [],
            "needs_background": "light"
          }
        }
      ]
    },
    {
      "cell_type": "markdown",
      "metadata": {
        "id": "MdKXRCPjiIKG"
      },
      "source": [
        "### Task 2. Power law PPF (0.6 point)"
      ]
    },
    {
      "cell_type": "markdown",
      "metadata": {
        "id": "tzBP7s4MiIKG"
      },
      "source": [
        "Let $X \\sim \\text{Power law}$. Next, define a random variable $R$, s.t. $R = F(X)$, so $R$ will be uniformly distributed on interval [0, 1] ([proof](https://en.wikipedia.org/wiki/Probability_integral_transform#Proof)). Good thing here is that we easily can generate uniformly distributed pseudorandom numbers and then transform them into Power Law. Let us find an expression for $x = F^{-1}(r)$, where $r$ is an observation from uniform distrubution on interval [0, 1]. \n",
        "\n",
        "Find an analytical form of $F^{-1}(r)$ and write a function `power_law_ppf` (percent point function, also known as a quantile) with parameters `r`, `alpha` and `x_min`. "
      ]
    },
    {
      "cell_type": "code",
      "metadata": {
        "deletable": false,
        "nbgrader": {
          "cell_type": "code",
          "checksum": "be67ee873cb3bf60c2e62921b187b228",
          "grade": false,
          "grade_id": "cell-63a819b2bc8441f1",
          "locked": false,
          "schema_version": 3,
          "solution": true,
          "task": false
        },
        "id": "2TaiG9eBiIKH"
      },
      "source": [
        "def power_law_ppf(r, alpha=3.5, x_min=1):\n",
        "    C = (alpha - 1) / x_min ** (1 - alpha)\n",
        "    return ((r - 1)/(C * 1/(-alpha + 1))) ** (1/(-alpha + 1))"
      ],
      "execution_count": 7,
      "outputs": []
    },
    {
      "cell_type": "code",
      "metadata": {
        "deletable": false,
        "editable": false,
        "nbgrader": {
          "cell_type": "code",
          "checksum": "66dc6dea66047660258c1c1045c44c91",
          "grade": true,
          "grade_id": "cell-0b447767612a3798",
          "locked": true,
          "points": 0.6,
          "schema_version": 3,
          "solution": false,
          "task": false
        },
        "id": "yyfbCOFeiIKH"
      },
      "source": [
        "assert round(power_law_ppf(0.5, 2, 1), 2) == 2\n",
        "assert round(power_law_ppf(0.9, 2, 1), 2) == 10\n",
        "assert adler32(str(round(power_law_ppf(0.96, 3, 1), 2)).encode()) == 19792020"
      ],
      "execution_count": 8,
      "outputs": []
    },
    {
      "cell_type": "code",
      "metadata": {
        "id": "HzBo90kRiIKH",
        "colab": {
          "base_uri": "https://localhost:8080/",
          "height": 281
        },
        "outputId": "fe501644-b76c-4b45-ccef-cf8e464392eb"
      },
      "source": [
        "x_space = np.linspace(0, 0.999, 100)\n",
        "plt.plot(x_space, power_law_ppf(x_space))\n",
        "plt.title('Power Law PPF');"
      ],
      "execution_count": 9,
      "outputs": [
        {
          "output_type": "display_data",
          "data": {
            "image/png": "[encoded data removed]",
            "text/plain": [
              "<Figure size 432x288 with 1 Axes>"
            ]
          },
          "metadata": {
            "tags": [],
            "needs_background": "light"
          }
        }
      ]
    },
    {
      "cell_type": "markdown",
      "metadata": {
        "id": "YIHLcOMhiIKI"
      },
      "source": [
        "Finally, we can generate observation from Power law distribution as follows:\n",
        "1. Generate observation from uniform distribution on interval [0, 1]\n",
        "2. Calculate PPF value of given observation"
      ]
    },
    {
      "cell_type": "code",
      "metadata": {
        "id": "91l7RWzLiIKI"
      },
      "source": [
        "def power_law_generate(n, alpha=3.5, x_min=1, random_seed=1):\n",
        "    np.random.seed(random_seed)\n",
        "    uni_sample = np.random.uniform(0, 0.999, n)\n",
        "    return power_law_ppf(uni_sample, alpha, x_min)"
      ],
      "execution_count": 10,
      "outputs": []
    },
    {
      "cell_type": "markdown",
      "metadata": {
        "id": "5Dg9jJ1CiIKI"
      },
      "source": [
        "Look at the histogram of the generated sample"
      ]
    },
    {
      "cell_type": "code",
      "metadata": {
        "id": "y8oMnGdviIKJ"
      },
      "source": [
        "alpha = 3.5\n",
        "x_min = 1\n",
        "x_train = power_law_generate(1000, alpha, x_min)\n",
        "x_space = np.linspace(1, 15, 100)"
      ],
      "execution_count": 11,
      "outputs": []
    },
    {
      "cell_type": "code",
      "metadata": {
        "id": "LUCuyfYXiIKJ",
        "colab": {
          "base_uri": "https://localhost:8080/",
          "height": 265
        },
        "outputId": "113b7c43-e461-497b-e1b5-84bb05ea6792"
      },
      "source": [
        "hist, bin_edges = np.histogram(x_train, bins=200, density=True)\n",
        "bin_centers = (bin_edges[1:] + bin_edges[:-1]) / 2\n",
        "plt.scatter(bin_centers[hist > 0], hist[hist > 0], s=10)\n",
        "plt.plot(x_space, power_law_pdf(x_space, alpha, x_min), \n",
        "         label='Theoretical PDF', c='tab:orange')\n",
        "plt.legend()\n",
        "plt.xlim(1, 10)\n",
        "plt.show()"
      ],
      "execution_count": 12,
      "outputs": [
        {
          "output_type": "display_data",
          "data": {
            "image/png": "[encoded data removed]",
            "text/plain": [
              "<Figure size 432x288 with 1 Axes>"
            ]
          },
          "metadata": {
            "tags": [],
            "needs_background": "light"
          }
        }
      ]
    },
    {
      "cell_type": "markdown",
      "metadata": {
        "id": "CCsFm3IdiIKJ"
      },
      "source": [
        "And here is the same histogram in log-log scale"
      ]
    },
    {
      "cell_type": "code",
      "metadata": {
        "id": "7OSQPqIBiIKJ",
        "colab": {
          "base_uri": "https://localhost:8080/",
          "height": 269
        },
        "outputId": "4b7a9a72-e6ce-44ac-8bd8-626469e635d5"
      },
      "source": [
        "hist, bin_edges = np.histogram(x_train, bins=200, density=True)\n",
        "bin_centers = (bin_edges[1:] + bin_edges[:-1]) / 2\n",
        "plt.scatter(bin_centers, hist, s=10)\n",
        "plt.plot(x_space, power_law_pdf(x_space, alpha, x_min), \n",
        "         label='Theoretical PDF', c='tab:orange')\n",
        "plt.legend()\n",
        "plt.xscale('log')\n",
        "plt.yscale('log')\n",
        "plt.xlim(1, 10)\n",
        "plt.show()"
      ],
      "execution_count": 13,
      "outputs": [
        {
          "output_type": "display_data",
          "data": {
            "image/png": "[encoded data removed]",
            "text/plain": [
              "<Figure size 432x288 with 1 Axes>"
            ]
          },
          "metadata": {
            "tags": [],
            "needs_background": "light"
          }
        }
      ]
    },
    {
      "cell_type": "markdown",
      "metadata": {
        "id": "gStFBYuwiIKK"
      },
      "source": [
        "### Task 3. Estimation of alpha with linear binning (0.6 point)"
      ]
    },
    {
      "cell_type": "markdown",
      "metadata": {
        "id": "cR-gIqY8iIKK"
      },
      "source": [
        "Given observations from the Power Law distribution, try to estimate $\\alpha$. The easiest way is to draw an empirical PDF with linear binning in log-log scale and apply linear regression. By _linear binning_ we mean to keep a bin width is fixed.\n",
        "\n",
        "Write a function `alpha_lin_bins` that takes a train set, number of linear bins and returns an estimated $\\alpha$.\n",
        "\n",
        "_Hints:_\n",
        "* _Take log in both side of $p(x) = Cx^{-\\alpha}$_\n",
        "* _To calculate an empirical PDF, use `np.histogram(x_train, bins=bins, density=True)`_\n",
        "* _To calculate pseudoinverse matrix, use `np.linalg.pinv`_\n",
        "* _Also you can use fit-predict in `sklearn.linear.LinearRegression`_"
      ]
    },
    {
      "cell_type": "code",
      "metadata": {
        "deletable": false,
        "nbgrader": {
          "cell_type": "code",
          "checksum": "98c4c6ef2ed0c2d94c440d3e8e932b7e",
          "grade": false,
          "grade_id": "cell-c57a5c7c5834b80e",
          "locked": false,
          "schema_version": 3,
          "solution": true,
          "task": false
        },
        "id": "3C2GGYljiIKL"
      },
      "source": [
        "from sklearn.linear_model import LinearRegression\n",
        "\n",
        "def alpha_lin_bins(x_train, bins):\n",
        "    h = np.histogram(x_train, bins)\n",
        "    p_log = np.log(h[0] / len(x_train))\n",
        "    bin_centers = np.log((h[1][1:] + h[1][:-1]) / 2)\n",
        "    regression = LinearRegression()\n",
        "    regression.fit(bin_centers[h[0] != 0].reshape(-1, 1), p_log[h[0] != 0])\n",
        "    return - regression.coef_[-1] # Because we need alpha then we use (-1)"
      ],
      "execution_count": 14,
      "outputs": []
    },
    {
      "cell_type": "code",
      "metadata": {
        "deletable": false,
        "editable": false,
        "nbgrader": {
          "cell_type": "code",
          "checksum": "6826a6691147f838c13ed2ebdf7c4f09",
          "grade": true,
          "grade_id": "cell-b9cf21aabb190bd7",
          "locked": true,
          "points": 0.6,
          "schema_version": 3,
          "solution": false,
          "task": false
        },
        "id": "J8mE-aORiIKL",
        "colab": {
          "base_uri": "https://localhost:8080/"
        },
        "outputId": "bb8cc546-deeb-4608-b9b9-defcf2eb4624"
      },
      "source": [
        "bins = 100\n",
        "x_train = power_law_generate(1000, x_min=1, alpha=2)\n",
        "assert np.abs(alpha_lin_bins(x_train, bins) - 2) < 0.7\n",
        "x_train = power_law_generate(1000, x_min=1, alpha=3.5)\n",
        "assert np.abs(alpha_lin_bins(x_train, bins) - 3.5) < 0.9\n",
        "x_train = power_law_generate(1000, x_min=1, alpha=10)\n",
        "assert np.abs(alpha_lin_bins(x_train, bins) - 10) < 2"
      ],
      "execution_count": 15,
      "outputs": [
        {
          "output_type": "stream",
          "text": [
            "/usr/local/lib/python3.7/dist-packages/ipykernel_launcher.py:5: RuntimeWarning: divide by zero encountered in log\n",
            "  \"\"\"\n",
            "/usr/local/lib/python3.7/dist-packages/ipykernel_launcher.py:5: RuntimeWarning: divide by zero encountered in log\n",
            "  \"\"\"\n",
            "/usr/local/lib/python3.7/dist-packages/ipykernel_launcher.py:5: RuntimeWarning: divide by zero encountered in log\n",
            "  \"\"\"\n"
          ],
          "name": "stderr"
        }
      ]
    },
    {
      "cell_type": "code",
      "metadata": {
        "id": "KL2SD-lYiIKL",
        "colab": {
          "base_uri": "https://localhost:8080/",
          "height": 321
        },
        "outputId": "42b0dd2d-a986-46d9-a46d-38e3eed20a03"
      },
      "source": [
        "x_min = 1\n",
        "alpha = 3.5\n",
        "bins = 100\n",
        "\n",
        "x_train = power_law_generate(1000, alpha, x_min)\n",
        "hist, bin_edges = np.histogram(x_train, bins=bins, density=True)\n",
        "bin_centers = (bin_edges[1:] + bin_edges[:-1]) / 2\n",
        "plt.scatter(bin_centers, hist, s=10)\n",
        "\n",
        "hat_alpha = alpha_lin_bins(x_train, bins)\n",
        "x_space = np.linspace(x_min, x_train.max(), 100)\n",
        "plt.plot(x_space, power_law_pdf(x_space, hat_alpha, x_min), \n",
        "         label='Estimated PDF', c='tab:orange')\n",
        "plt.legend()\n",
        "plt.title('Truth alpha = {:.2f}, estimated alpha = {:.2f}'.format(alpha, hat_alpha))\n",
        "plt.xscale('log')\n",
        "plt.yscale('log')\n",
        "plt.show()"
      ],
      "execution_count": 16,
      "outputs": [
        {
          "output_type": "stream",
          "text": [
            "/usr/local/lib/python3.7/dist-packages/ipykernel_launcher.py:5: RuntimeWarning: divide by zero encountered in log\n",
            "  \"\"\"\n"
          ],
          "name": "stderr"
        },
        {
          "output_type": "display_data",
          "data": {
            "image/png": "[encoded data removed]",
            "text/plain": [
              "<Figure size 432x288 with 1 Axes>"
            ]
          },
          "metadata": {
            "tags": [],
            "needs_background": "light"
          }
        }
      ]
    },
    {
      "cell_type": "markdown",
      "metadata": {
        "id": "_oGoeOQ-iIKL"
      },
      "source": [
        "### Task 4. Estimation of alpha with logarithmic binning (2 points)"
      ]
    },
    {
      "cell_type": "markdown",
      "metadata": {
        "id": "_FyiEvpWiIKM"
      },
      "source": [
        "As we see the estimation with linear binning is noticeably inaccurate. For logarithmic binning we let the bin sizes increase with the value, making sure that each bin has a comparable number of observations.\n",
        "\n",
        "Write a function `alpha_log_bins` that takes a train set, number of log bins and returns an estimated $\\alpha$.\n",
        "\n",
        "*Hint: use `np.logspace(np.log10(x_min), np.log10(x_train.max()), bins)` to generate an increasing logarithmic sequence of bins*"
      ]
    },
    {
      "cell_type": "code",
      "metadata": {
        "deletable": false,
        "nbgrader": {
          "cell_type": "code",
          "checksum": "f20a7d7035785da992e45b13ecfac97b",
          "grade": false,
          "grade_id": "cell-bc1092822f8126d1",
          "locked": false,
          "schema_version": 3,
          "solution": true,
          "task": false
        },
        "id": "OJDTHkIMiIKM"
      },
      "source": [
        "def alpha_log_bins(x_train, bins):\n",
        "    log_bins = np.logspace(np.log10(x_train.min()), np.log10(x_train.max()), bins)\n",
        "    h = np.histogram(x_train, log_bins, density=True)\n",
        "    p_log = np.log(h[0] / len(x_train))\n",
        "    bin_centers = np.log((h[1][1:] + h[1][:-1]) / 2)\n",
        "    regression = LinearRegression()\n",
        "    regression.fit(bin_centers[h[0] != 0].reshape(-1, 1), p_log[h[0] != 0])\n",
        "    return - regression.coef_[-1] # Because we need alpha then we multiply by (-1)"
      ],
      "execution_count": 17,
      "outputs": []
    },
    {
      "cell_type": "code",
      "metadata": {
        "deletable": false,
        "editable": false,
        "nbgrader": {
          "cell_type": "code",
          "checksum": "fdaf8d2b30bf5ffd1142ff90e2c8ae80",
          "grade": true,
          "grade_id": "cell-1bc5eba53dc73dbd",
          "locked": true,
          "points": 2,
          "schema_version": 3,
          "solution": false,
          "task": false
        },
        "id": "qa71xVyfiIKN",
        "colab": {
          "base_uri": "https://localhost:8080/"
        },
        "outputId": "a2335a7d-3de2-4da9-c2d7-a8761b5aa40c"
      },
      "source": [
        "bins = 100\n",
        "x_train = power_law_generate(1000, x_min=1, alpha=2)\n",
        "assert np.abs(alpha_log_bins(x_train, bins) - 2) < 0.2\n",
        "x_train = power_law_generate(1000, x_min=1, alpha=3.5)\n",
        "assert np.abs(alpha_log_bins(x_train, bins) - 3.5) < 0.5\n",
        "x_train = power_law_generate(1000, x_min=1, alpha=10)\n",
        "assert np.abs(alpha_log_bins(x_train, bins) - 10) < 1.5"
      ],
      "execution_count": 18,
      "outputs": [
        {
          "output_type": "stream",
          "text": [
            "/usr/local/lib/python3.7/dist-packages/ipykernel_launcher.py:4: RuntimeWarning: divide by zero encountered in log\n",
            "  after removing the cwd from sys.path.\n",
            "/usr/local/lib/python3.7/dist-packages/ipykernel_launcher.py:4: RuntimeWarning: divide by zero encountered in log\n",
            "  after removing the cwd from sys.path.\n",
            "/usr/local/lib/python3.7/dist-packages/ipykernel_launcher.py:4: RuntimeWarning: divide by zero encountered in log\n",
            "  after removing the cwd from sys.path.\n"
          ],
          "name": "stderr"
        }
      ]
    },
    {
      "cell_type": "code",
      "metadata": {
        "id": "Hk27wu77iIKN",
        "colab": {
          "base_uri": "https://localhost:8080/",
          "height": 321
        },
        "outputId": "bb2088b9-969e-40d6-c961-d532b1e06fdd"
      },
      "source": [
        "x_min = 1\n",
        "alpha = 3.5\n",
        "bins = 100\n",
        "\n",
        "x_train = power_law_generate(1000, alpha, x_min)\n",
        "binning = np.logspace(np.log10(x_min), np.log10(x_train.max()), bins)\n",
        "hist, bin_edges = np.histogram(x_train, bins=binning, density=True)\n",
        "bin_centers = (bin_edges[1:] + bin_edges[:-1]) / 2\n",
        "plt.scatter(bin_centers, hist, s=10)\n",
        "\n",
        "hat_alpha = alpha_log_bins(x_train, bins)\n",
        "x_space = np.linspace(x_min, x_train.max(), 100)\n",
        "plt.plot(x_space, power_law_pdf(x_space, hat_alpha, x_min), \n",
        "         label='Estimated PDF', c='tab:orange')\n",
        "plt.legend()\n",
        "plt.title('Truth alpha = {:.2f}, estimated alpha = {:.2f}'.format(alpha, hat_alpha))\n",
        "plt.xscale('log')\n",
        "plt.yscale('log')\n",
        "plt.show()"
      ],
      "execution_count": 19,
      "outputs": [
        {
          "output_type": "stream",
          "text": [
            "/usr/local/lib/python3.7/dist-packages/ipykernel_launcher.py:4: RuntimeWarning: divide by zero encountered in log\n",
            "  after removing the cwd from sys.path.\n"
          ],
          "name": "stderr"
        },
        {
          "output_type": "display_data",
          "data": {
            "image/png": "[encoded data removed]",
            "text/plain": [
              "<Figure size 432x288 with 1 Axes>"
            ]
          },
          "metadata": {
            "tags": [],
            "needs_background": "light"
          }
        }
      ]
    },
    {
      "cell_type": "markdown",
      "metadata": {
        "id": "RL5dgBBviIKO"
      },
      "source": [
        "### Task 5. Generation graphs with a given degree distribution (0.6 point)"
      ]
    },
    {
      "cell_type": "markdown",
      "metadata": {
        "id": "71_UaAxFiIKO"
      },
      "source": [
        "In this task we will generate different types of graph from its degree distributions.\n",
        "\n",
        "__Graph A__ should be described with the density `[0, 2, 10]`."
      ]
    },
    {
      "cell_type": "code",
      "metadata": {
        "id": "ajMcahyeiIKO",
        "colab": {
          "base_uri": "https://localhost:8080/",
          "height": 265
        },
        "outputId": "0b6204de-bdea-4a11-e473-c83645db8122"
      },
      "source": [
        "dens_a = [0, 2, 10]\n",
        "plt.bar(range(len(dens_a)), dens_a);"
      ],
      "execution_count": 20,
      "outputs": [
        {
          "output_type": "display_data",
          "data": {
            "image/png": "[encoded data removed]",
            "text/plain": [
              "<Figure size 432x288 with 1 Axes>"
            ]
          },
          "metadata": {
            "tags": [],
            "needs_background": "light"
          }
        }
      ]
    },
    {
      "cell_type": "code",
      "metadata": {
        "deletable": false,
        "nbgrader": {
          "cell_type": "code",
          "checksum": "7726ebdf8814362b9595c84fe0221e09",
          "grade": false,
          "grade_id": "cell-4308485bfb1bf30e",
          "locked": false,
          "schema_version": 3,
          "solution": true,
          "task": false
        },
        "id": "uGX9llfjiIKO"
      },
      "source": [
        "def generate_graph_a() -> nx.Graph:\n",
        "    return nx.path_graph(12)"
      ],
      "execution_count": 21,
      "outputs": []
    },
    {
      "cell_type": "code",
      "metadata": {
        "colab": {
          "base_uri": "https://localhost:8080/",
          "height": 319
        },
        "id": "W9tQCy0Tfq8x",
        "outputId": "57d91305-b52b-4d30-dd93-1fcea39b2937"
      },
      "source": [
        "nx.draw(nx.path_graph(12))"
      ],
      "execution_count": 22,
      "outputs": [
        {
          "output_type": "display_data",
          "data": {
            "image/png": "[encoded data removed]",
            "text/plain": [
              "<Figure size 432x288 with 1 Axes>"
            ]
          },
          "metadata": {
            "tags": []
          }
        }
      ]
    },
    {
      "cell_type": "code",
      "metadata": {
        "deletable": false,
        "editable": false,
        "nbgrader": {
          "cell_type": "code",
          "checksum": "3f1eedc648e3171726e3ed3c949afb83",
          "grade": true,
          "grade_id": "cell-226da2d721eaace4",
          "locked": true,
          "points": 0.15,
          "schema_version": 3,
          "solution": false,
          "task": false
        },
        "id": "swAnF3cSiIKP"
      },
      "source": [
        "assert nx.degree_histogram(generate_graph_a()) == dens_a"
      ],
      "execution_count": 23,
      "outputs": []
    },
    {
      "cell_type": "markdown",
      "metadata": {
        "id": "lYRMd3YfiIKP"
      },
      "source": [
        "__Graph B__"
      ]
    },
    {
      "cell_type": "code",
      "metadata": {
        "id": "IZIdRckoiIKP",
        "colab": {
          "base_uri": "https://localhost:8080/",
          "height": 265
        },
        "outputId": "25e92f0a-8245-49b7-db37-ff7b5146ad0f"
      },
      "source": [
        "dens_b = [0, 0, 10]\n",
        "plt.bar(range(len(dens_b)), dens_b);"
      ],
      "execution_count": 24,
      "outputs": [
        {
          "output_type": "display_data",
          "data": {
            "image/png": "[encoded data removed]",
            "text/plain": [
              "<Figure size 432x288 with 1 Axes>"
            ]
          },
          "metadata": {
            "tags": [],
            "needs_background": "light"
          }
        }
      ]
    },
    {
      "cell_type": "code",
      "metadata": {
        "deletable": false,
        "nbgrader": {
          "cell_type": "code",
          "checksum": "41e7af615198bd34567381ea1b34f56c",
          "grade": false,
          "grade_id": "cell-55d7cfacd5c8d553",
          "locked": false,
          "schema_version": 3,
          "solution": true,
          "task": false
        },
        "id": "06GNdzl3iIKQ"
      },
      "source": [
        "def generate_graph_b() -> nx.Graph:\n",
        "    return nx.configuration_model((2, 2, 2, 2, 2, 2, 2, 2, 2, 2))"
      ],
      "execution_count": 25,
      "outputs": []
    },
    {
      "cell_type": "code",
      "metadata": {
        "colab": {
          "base_uri": "https://localhost:8080/",
          "height": 319
        },
        "id": "7GIn5YKkisxC",
        "outputId": "c4ef2a59-fa33-41c8-a434-9b537dd05da6"
      },
      "source": [
        "nx.draw(nx.configuration_model((2, 2, 2, 2, 2, 2, 2, 2, 2, 2)))"
      ],
      "execution_count": 26,
      "outputs": [
        {
          "output_type": "display_data",
          "data": {
            "image/png": "[encoded data removed]",
            "text/plain": [
              "<Figure size 432x288 with 1 Axes>"
            ]
          },
          "metadata": {
            "tags": []
          }
        }
      ]
    },
    {
      "cell_type": "code",
      "metadata": {
        "deletable": false,
        "editable": false,
        "nbgrader": {
          "cell_type": "code",
          "checksum": "7447308c0c61ffcff7ad80842ad13fd1",
          "grade": true,
          "grade_id": "cell-11bb8205ad27326a",
          "locked": true,
          "points": 0.15,
          "schema_version": 3,
          "solution": false,
          "task": false
        },
        "id": "TtKxNbyUiIKQ"
      },
      "source": [
        "assert nx.degree_histogram(generate_graph_b()) == dens_b"
      ],
      "execution_count": 27,
      "outputs": []
    },
    {
      "cell_type": "markdown",
      "metadata": {
        "id": "HWJIAjIpiIKQ"
      },
      "source": [
        "__Graph C__"
      ]
    },
    {
      "cell_type": "code",
      "metadata": {
        "id": "26JA5ol3iIKR",
        "colab": {
          "base_uri": "https://localhost:8080/",
          "height": 265
        },
        "outputId": "5d9d1f5d-c7db-47fb-c4bc-a9967bb0c956"
      },
      "source": [
        "dens_c = [0, 0, 0, 0, 5]\n",
        "plt.bar(range(len(dens_c)), dens_c);"
      ],
      "execution_count": 28,
      "outputs": [
        {
          "output_type": "display_data",
          "data": {
            "image/png": "[encoded data removed]",
            "text/plain": [
              "<Figure size 432x288 with 1 Axes>"
            ]
          },
          "metadata": {
            "tags": [],
            "needs_background": "light"
          }
        }
      ]
    },
    {
      "cell_type": "code",
      "metadata": {
        "deletable": false,
        "nbgrader": {
          "cell_type": "code",
          "checksum": "dac931bc16a78ae011fdaab8f99a54ca",
          "grade": false,
          "grade_id": "cell-6ad0ea3f81976162",
          "locked": false,
          "schema_version": 3,
          "solution": true,
          "task": false
        },
        "id": "_nWDDxmEiIKR"
      },
      "source": [
        "def generate_graph_c() -> nx.Graph:\n",
        "    return nx.complete_graph(5)"
      ],
      "execution_count": 29,
      "outputs": []
    },
    {
      "cell_type": "code",
      "metadata": {
        "colab": {
          "base_uri": "https://localhost:8080/",
          "height": 319
        },
        "id": "X4WA0NdhjrRv",
        "outputId": "d709dd5b-e37f-4f5c-9009-25ff732e8df7"
      },
      "source": [
        "nx.draw(nx.complete_graph(5))"
      ],
      "execution_count": 30,
      "outputs": [
        {
          "output_type": "display_data",
          "data": {
            "image/png": "[encoded data removed]",
            "text/plain": [
              "<Figure size 432x288 with 1 Axes>"
            ]
          },
          "metadata": {
            "tags": []
          }
        }
      ]
    },
    {
      "cell_type": "code",
      "metadata": {
        "deletable": false,
        "editable": false,
        "nbgrader": {
          "cell_type": "code",
          "checksum": "f710e78a7a1e58bb99cc7e4e7f015979",
          "grade": true,
          "grade_id": "cell-508d2e23c067c4d2",
          "locked": true,
          "points": 0.15,
          "schema_version": 3,
          "solution": false,
          "task": false
        },
        "id": "ME-D_3gPiIKR"
      },
      "source": [
        "assert nx.degree_histogram(generate_graph_c()) == dens_c"
      ],
      "execution_count": 31,
      "outputs": []
    },
    {
      "cell_type": "markdown",
      "metadata": {
        "id": "ZGpDAWmCiIKR"
      },
      "source": [
        "__Graph D__"
      ]
    },
    {
      "cell_type": "code",
      "metadata": {
        "id": "gX8KGcG5iIKR",
        "colab": {
          "base_uri": "https://localhost:8080/",
          "height": 265
        },
        "outputId": "06fdf3db-5055-4bb4-836c-a47b81b109c1"
      },
      "source": [
        "dens_d = [0, 5, 0, 0, 0, 1]\n",
        "plt.bar(range(len(dens_d)), dens_d);"
      ],
      "execution_count": 32,
      "outputs": [
        {
          "output_type": "display_data",
          "data": {
            "image/png": "[encoded data removed]",
            "text/plain": [
              "<Figure size 432x288 with 1 Axes>"
            ]
          },
          "metadata": {
            "tags": [],
            "needs_background": "light"
          }
        }
      ]
    },
    {
      "cell_type": "code",
      "metadata": {
        "deletable": false,
        "nbgrader": {
          "cell_type": "code",
          "checksum": "f1ab3b74f2b7a677c3844675c785ef5a",
          "grade": false,
          "grade_id": "cell-2a6c0c0fe4dda491",
          "locked": false,
          "schema_version": 3,
          "solution": true,
          "task": false
        },
        "id": "B3WHNIubiIKS"
      },
      "source": [
        "def generate_graph_d() -> nx.Graph:\n",
        "    return nx.star_graph(5)"
      ],
      "execution_count": 33,
      "outputs": []
    },
    {
      "cell_type": "code",
      "metadata": {
        "colab": {
          "base_uri": "https://localhost:8080/",
          "height": 319
        },
        "id": "9fjz6K_LmG6Y",
        "outputId": "6323aa3a-13d6-4fa4-d32f-0a2c766f9552"
      },
      "source": [
        "nx.draw(generate_graph_d())"
      ],
      "execution_count": 34,
      "outputs": [
        {
          "output_type": "display_data",
          "data": {
            "image/png": "[encoded data removed]",
            "text/plain": [
              "<Figure size 432x288 with 1 Axes>"
            ]
          },
          "metadata": {
            "tags": []
          }
        }
      ]
    },
    {
      "cell_type": "code",
      "metadata": {
        "deletable": false,
        "editable": false,
        "nbgrader": {
          "cell_type": "code",
          "checksum": "87569732e965a2bb960b4e5b73bb1bbc",
          "grade": true,
          "grade_id": "cell-c9c34144467f9031",
          "locked": true,
          "points": 0.15,
          "schema_version": 3,
          "solution": false,
          "task": false
        },
        "id": "795epZ3xiIKS"
      },
      "source": [
        "assert nx.degree_histogram(generate_graph_d()) == dens_d"
      ],
      "execution_count": 35,
      "outputs": []
    },
    {
      "cell_type": "markdown",
      "metadata": {
        "id": "JukgfdtCiIKS"
      },
      "source": [
        "### Task 6. Reading a degree distribution from a file (2 points)"
      ]
    },
    {
      "cell_type": "markdown",
      "metadata": {
        "id": "HCzRj6TliIKS"
      },
      "source": [
        "In this task we will estimate CDF of degree distribution of a given graph. Firstly, let us download the Game of Thrones relationships dataset and create a graph."
      ]
    },
    {
      "cell_type": "code",
      "metadata": {
        "id": "R9sHOnRkiIKT"
      },
      "source": [
        "raw_data = pd.read_csv(\"https://raw.githubusercontent.com/network-science-course/network-science-course/main/datasets/game_of_thrones_relationships.csv\")\n"
      ],
      "execution_count": 36,
      "outputs": []
    },
    {
      "cell_type": "code",
      "metadata": {
        "id": "A7EcqG5liIKT",
        "colab": {
          "base_uri": "https://localhost:8080/",
          "height": 198
        },
        "outputId": "a568985c-a093-4544-f375-116845c7ba73"
      },
      "source": [
        "raw_data.head()"
      ],
      "execution_count": 37,
      "outputs": [
        {
          "output_type": "execute_result",
          "data": {
            "text/html": [
              "<div>\n",
              "<style scoped>\n",
              "    .dataframe tbody tr th:only-of-type {\n",
              "        vertical-align: middle;\n",
              "    }\n",
              "\n",
              "    .dataframe tbody tr th {\n",
              "        vertical-align: top;\n",
              "    }\n",
              "\n",
              "    .dataframe thead th {\n",
              "        text-align: right;\n",
              "    }\n",
              "</style>\n",
              "<table border=\"1\" class=\"dataframe\">\n",
              "  <thead>\n",
              "    <tr style=\"text-align: right;\">\n",
              "      <th></th>\n",
              "      <th>character1</th>\n",
              "      <th>character2</th>\n",
              "      <th>relationship</th>\n",
              "      <th>type</th>\n",
              "    </tr>\n",
              "  </thead>\n",
              "  <tbody>\n",
              "    <tr>\n",
              "      <th>0</th>\n",
              "      <td>/wiki/Nymeria_Sand</td>\n",
              "      <td>/wiki/Oberyn_Martell</td>\n",
              "      <td>father</td>\n",
              "      <td>biological</td>\n",
              "    </tr>\n",
              "    <tr>\n",
              "      <th>1</th>\n",
              "      <td>/wiki/Bran_Stark</td>\n",
              "      <td>/wiki/Eddard_Stark</td>\n",
              "      <td>father</td>\n",
              "      <td>biological</td>\n",
              "    </tr>\n",
              "    <tr>\n",
              "      <th>2</th>\n",
              "      <td>/wiki/Bran_Stark</td>\n",
              "      <td>/wiki/Catelyn_Stark</td>\n",
              "      <td>mother</td>\n",
              "      <td>NaN</td>\n",
              "    </tr>\n",
              "    <tr>\n",
              "      <th>3</th>\n",
              "      <td>/wiki/Lothar_Frey</td>\n",
              "      <td>/wiki/Walder_Frey</td>\n",
              "      <td>father</td>\n",
              "      <td>biological</td>\n",
              "    </tr>\n",
              "    <tr>\n",
              "      <th>4</th>\n",
              "      <td>/wiki/Robb_Stark</td>\n",
              "      <td>/wiki/Eddard_Stark</td>\n",
              "      <td>father</td>\n",
              "      <td>biological</td>\n",
              "    </tr>\n",
              "  </tbody>\n",
              "</table>\n",
              "</div>"
            ],
            "text/plain": [
              "           character1            character2 relationship        type\n",
              "0  /wiki/Nymeria_Sand  /wiki/Oberyn_Martell       father  biological\n",
              "1    /wiki/Bran_Stark    /wiki/Eddard_Stark       father  biological\n",
              "2    /wiki/Bran_Stark   /wiki/Catelyn_Stark       mother         NaN\n",
              "3   /wiki/Lothar_Frey     /wiki/Walder_Frey       father  biological\n",
              "4    /wiki/Robb_Stark    /wiki/Eddard_Stark       father  biological"
            ]
          },
          "metadata": {
            "tags": []
          },
          "execution_count": 37
        }
      ]
    },
    {
      "cell_type": "code",
      "metadata": {
        "id": "L9hIoC8biIKT"
      },
      "source": [
        "g = nx.from_pandas_edgelist(raw_data, source=\"character1\", target=\"character2\")"
      ],
      "execution_count": 38,
      "outputs": []
    },
    {
      "cell_type": "code",
      "metadata": {
        "id": "MVXv5ZsuiIKT",
        "colab": {
          "base_uri": "https://localhost:8080/",
          "height": 319
        },
        "outputId": "60e4a2e8-da0e-47ae-b12c-3a4b467ee1ca"
      },
      "source": [
        "nx.draw(g, node_size=10)"
      ],
      "execution_count": 39,
      "outputs": [
        {
          "output_type": "display_data",
          "data": {
            "image/png": "[encoded data removed]",
            "text/plain": [
              "<Figure size 432x288 with 1 Axes>"
            ]
          },
          "metadata": {
            "tags": []
          }
        }
      ]
    },
    {
      "cell_type": "markdown",
      "metadata": {
        "id": "iy0LuOPjiIKU"
      },
      "source": [
        "In the social network analysis, we will often consider the largest connected component only. Before estimation of CDF, we need to remove all connected components except of the largest one.\n",
        "\n",
        "_Hint: use `nx.connected_components` to get a list of nodes for each connected component._"
      ]
    },
    {
      "cell_type": "code",
      "metadata": {
        "deletable": false,
        "nbgrader": {
          "cell_type": "code",
          "checksum": "07e8207f2a0510ee621508841df6acd0",
          "grade": false,
          "grade_id": "cell-37477b43188105f5",
          "locked": false,
          "schema_version": 3,
          "solution": true,
          "task": false
        },
        "id": "pSv327WdiIKU"
      },
      "source": [
        "def select_gygantic_component(g: nx.Graph) -> nx.Graph:\n",
        "  node_list = sorted(nx.connected_components(g), key = len, reverse=True)\n",
        "  gg = node_list[0]\n",
        "  len(node_list)\n",
        "  for i in range(len(node_list) - 1):\n",
        "    g.remove_nodes_from(node_list[i+1])\n",
        "  return g"
      ],
      "execution_count": 40,
      "outputs": []
    },
    {
      "cell_type": "code",
      "metadata": {
        "deletable": false,
        "editable": false,
        "nbgrader": {
          "cell_type": "code",
          "checksum": "9e8ea27b74e04a5eecf05c29c5d5558e",
          "grade": true,
          "grade_id": "cell-00509dc9b42f24ea",
          "locked": true,
          "points": 1,
          "schema_version": 3,
          "solution": false,
          "task": false
        },
        "id": "VBC-pVJoiIKU"
      },
      "source": [
        "gg = select_gygantic_component(g)\n",
        "assert gg.number_of_edges() == 49\n",
        "assert gg.number_of_nodes() == 37"
      ],
      "execution_count": 41,
      "outputs": []
    },
    {
      "cell_type": "code",
      "metadata": {
        "id": "c_MaydfxiIKV",
        "colab": {
          "base_uri": "https://localhost:8080/",
          "height": 319
        },
        "outputId": "93c254ef-c4ba-4a86-e99c-e5d064aaec67"
      },
      "source": [
        "nx.draw(gg, node_size=30)"
      ],
      "execution_count": 42,
      "outputs": [
        {
          "output_type": "display_data",
          "data": {
            "image/png": "[encoded data removed]",
            "text/plain": [
              "<Figure size 432x288 with 1 Axes>"
            ]
          },
          "metadata": {
            "tags": []
          }
        }
      ]
    },
    {
      "cell_type": "markdown",
      "metadata": {
        "id": "uH6ddIzLiIKV"
      },
      "source": [
        "Now we can calculate an empirical CDF for a given graph. Recall a formal definition of CDF\n",
        "\n",
        "$$F_X(x) = P(X \\leq x)$$\n",
        "\n",
        "And in empirical CDF, we estimate probability by share of nodes.\n",
        "\n",
        "Write a method `empirical_cdf` that takes a graph and returns a np.array of probabilities. The first element is related to the node degree 0, the second — the node degree 1 and so on. The method should be able to group degrees occurence into equaly distributed bins. \n",
        "\n",
        "_Hint: use `nx.degee_histogram` to return a degree histogram — a list of numbers of nodes for each degree._"
      ]
    },
    {
      "cell_type": "code",
      "metadata": {
        "id": "_3gNp007iIKV",
        "colab": {
          "base_uri": "https://localhost:8080/"
        },
        "outputId": "1a9d404b-0a34-41b1-9f90-f3dd8a2aabb6"
      },
      "source": [
        "nx.degree_histogram(g)"
      ],
      "execution_count": 43,
      "outputs": [
        {
          "output_type": "execute_result",
          "data": {
            "text/plain": [
              "[0, 5, 17, 9, 4, 0, 0, 0, 2]"
            ]
          },
          "metadata": {
            "tags": []
          },
          "execution_count": 43
        }
      ]
    },
    {
      "cell_type": "code",
      "metadata": {
        "deletable": false,
        "nbgrader": {
          "cell_type": "code",
          "checksum": "bc0bf47192b76ea6bcdde2ddec48367f",
          "grade": false,
          "grade_id": "cell-cbb478364b51233f",
          "locked": false,
          "schema_version": 3,
          "solution": true,
          "task": false
        },
        "id": "GArggmkziIKW"
      },
      "source": [
        "def empirical_cdf(g: nx.Graph) -> List[float]:\n",
        "    share_nodes_per_deg = np.array(nx.degree_histogram(g))\n",
        "    pdf = share_nodes_per_deg / np.sum((share_nodes_per_deg))\n",
        "    return np.cumsum(pdf)"
      ],
      "execution_count": 44,
      "outputs": []
    },
    {
      "cell_type": "code",
      "metadata": {
        "deletable": false,
        "editable": false,
        "nbgrader": {
          "cell_type": "code",
          "checksum": "9ab0814dc4b3d51e6e7fa7db68fd2dda",
          "grade": true,
          "grade_id": "cell-a1fd6b06aff25d78",
          "locked": true,
          "points": 1,
          "schema_version": 3,
          "solution": false,
          "task": false
        },
        "id": "CW9T93swiIKW"
      },
      "source": [
        "ecdf = empirical_cdf(gg)\n",
        "assert ecdf[0] == 0\n",
        "assert ecdf[-1] == 1\n",
        "assert np.all(ecdf[:-1] <= ecdf[1:])\n",
        "assert adler32(str(empirical_cdf(gg).round(4).sum()).encode()) == 70123823"
      ],
      "execution_count": 45,
      "outputs": []
    },
    {
      "cell_type": "code",
      "metadata": {
        "id": "57a_DpcTiIKW",
        "colab": {
          "base_uri": "https://localhost:8080/",
          "height": 295
        },
        "outputId": "56fdf10f-db33-4742-c75e-195ed8feb611"
      },
      "source": [
        "plt.plot(ecdf)\n",
        "plt.xlabel('degree')\n",
        "plt.ylabel('probability')\n",
        "plt.title('Empirical CDF')\n",
        "plt.show()"
      ],
      "execution_count": 46,
      "outputs": [
        {
          "output_type": "display_data",
          "data": {
            "image/png": "[encoded data removed]",
            "text/plain": [
              "<Figure size 432x288 with 1 Axes>"
            ]
          },
          "metadata": {
            "tags": [],
            "needs_background": "light"
          }
        }
      ]
    },
    {
      "cell_type": "markdown",
      "metadata": {
        "id": "w9cHPQuOiIKW"
      },
      "source": [
        "### Task 7. MLE of alpha in Power Law (3 points)"
      ]
    },
    {
      "cell_type": "markdown",
      "metadata": {
        "id": "eXXGnA96iIKX"
      },
      "source": [
        "Let us estimate $\\alpha$ and $x_\\min$ of a real social network using maximum likelihood. Here is a real degree distribution of the network of emails between members of the research institution with 1005 nodes."
      ]
    },
    {
      "cell_type": "code",
      "metadata": {
        "id": "iKPeWdwziIKX"
      },
      "source": [
        "url = 'https://raw.githubusercontent.com/network-science-course/network-science-course/main/datasets/email_degree_sequence.txt'\n",
        "open('email_degree_sequence.txt', 'wb').write(requests.get(url).content);\n"
      ],
      "execution_count": 47,
      "outputs": []
    },
    {
      "cell_type": "code",
      "metadata": {
        "id": "-W7_ZeM8iIKX",
        "colab": {
          "base_uri": "https://localhost:8080/",
          "height": 285
        },
        "outputId": "280beacc-2250-4525-9dab-9ee56cb8bbc5"
      },
      "source": [
        "degree_sequence = np.loadtxt('email_degree_sequence.txt')\n",
        "hist, bin_edges = np.histogram(degree_sequence, bins=1000, density=True)\n",
        "bin_centers = (bin_edges[1:] + bin_edges[:-1]) / 2\n",
        "plt.scatter(bin_centers[hist > 0], hist[hist > 0], s=5)\n",
        "plt.title('Email network degree distribution')\n",
        "plt.xscale('log')\n",
        "plt.yscale('log')"
      ],
      "execution_count": 48,
      "outputs": [
        {
          "output_type": "display_data",
          "data": {
            "image/png": "[encoded data removed]",
            "text/plain": [
              "<Figure size 432x288 with 1 Axes>"
            ]
          },
          "metadata": {
            "tags": [],
            "needs_background": "light"
          }
        }
      ]
    },
    {
      "cell_type": "markdown",
      "metadata": {
        "id": "OkmXAi-5iIKX"
      },
      "source": [
        "The MLE consists of:\n",
        "1. Fix $x_\\min$ as a minimal node degree (drop node degrees that less than $x_\\min$)\n",
        "2. Calculate $\\alpha$ via maximum likelihood estimation using fixed $x_\\min$\n",
        "$$\\alpha = 1 + n \\left[\\sum_i \\log \\frac{x_i}{x_\\min} \\right]^{-1}$$\n",
        "3. Calculate Kolmogorov-Smirnov test\n",
        "4. Fix $x_\\min$ as the next node degree\n",
        "5. Repeat 2-4 by scanning all possible $x_\\min$ and find the best $\\alpha$ and $x_\\min$ with respect to Kolmogorov-Smirnov test\n",
        "\n",
        "Write a function `ml_power_law_params` that takes a node degree sequence `degree_sequence` and returns a tuple of two values: the best $\\alpha$ and $x_\\min$.\n",
        "\n",
        "_Hints:_\n",
        "* _To calculate Kolmogorov-Smirnov distance use `scipy.stats.kstest` with a parameter `cdf=power_law_cdf`_"
      ]
    },
    {
      "cell_type": "code",
      "metadata": {
        "deletable": false,
        "nbgrader": {
          "cell_type": "code",
          "checksum": "8bc64f253c03d807aade17cb9dee113b",
          "grade": false,
          "grade_id": "cell-c0da4153dae3178a",
          "locked": false,
          "schema_version": 3,
          "solution": true,
          "task": false
        },
        "id": "_sUrdh0ViIKX"
      },
      "source": [
        "def mle_power_law_params(degree_sequence):\n",
        "    deg_seq = np.sort(degree_sequence)\n",
        "    print(deg_seq)\n",
        "    x_mins = range(1, int(np.max(deg_seq)))\n",
        "    alpha_f = None\n",
        "    x_min_f = None\n",
        "    k_s_test_f = None\n",
        "    for x_m in x_mins:\n",
        "      deg_seq = deg_seq[deg_seq >= x_m]\n",
        "      alpha = 1 + len(deg_seq) / np.sum(np.log(deg_seq / x_m))\n",
        "      kstest = scipy.stats.kstest(deg_seq, lambda a: power_law_cdf(a, alpha, x_m))[0]\n",
        "      if (alpha_f is None) or (k_s_test_f > kstest):\n",
        "        alpha_f, x_min_f, k_s_test_f = alpha, x_m, kstest      \n",
        "    return alpha_f, x_min_f"
      ],
      "execution_count": 49,
      "outputs": []
    },
    {
      "cell_type": "code",
      "metadata": {
        "deletable": false,
        "editable": false,
        "nbgrader": {
          "cell_type": "code",
          "checksum": "efcacc9ad86394f0fb939e7c9d8dad7a",
          "grade": true,
          "grade_id": "cell-213992ed205e9591",
          "locked": true,
          "points": 3,
          "schema_version": 3,
          "solution": false,
          "task": false
        },
        "id": "97JaEstYiIKY"
      },
      "source": [
        "alpha, x_min = 3.5, 3\n",
        "hat_alpha, hat_x_min = mle_power_law_params(power_law_generate(1000, alpha, x_min))\n",
        "assert np.abs(hat_alpha - alpha) < 0.05\n",
        "assert np.abs(hat_x_min - x_min) < 0.001\n",
        "\n",
        "alpha, x_min = 7, 1\n",
        "hat_alpha, hat_x_min = mle_power_law_params(power_law_generate(1000, alpha, x_min))\n",
        "assert np.abs(hat_alpha - alpha) < 0.1\n",
        "assert np.abs(hat_x_min - x_min) < 0.0001\n",
        "\n",
        "hat_alpha, hat_x_min = mle_power_law_params(degree_sequence)\n",
        "assert np.abs(hat_alpha - 2.9) < 0.1\n",
        "assert np.abs(hat_x_min - 42) < 1"
      ],
      "execution_count": null,
      "outputs": []
    },
    {
      "cell_type": "code",
      "metadata": {
        "id": "od1LTIOLiIKY",
        "colab": {
          "base_uri": "https://localhost:8080/",
          "height": 375
        },
        "outputId": "81c78d87-ed9c-4ea5-f2a1-202dbb69af88"
      },
      "source": [
        "hist, bin_edges = np.histogram(degree_sequence, bins=1000, density=True)\n",
        "bin_centers = (bin_edges[1:] + bin_edges[:-1]) / 2\n",
        "plt.scatter(bin_centers[hist > 0], hist[hist > 0], s=5)\n",
        "plt.title('Email network degree distribution')\n",
        "\n",
        "hat_alpha, hat_x_min = mle_power_law_params(degree_sequence)\n",
        "x_space = np.linspace(hat_x_min, degree_sequence.max(), 100)\n",
        "plt.plot(x_space, power_law_pdf(x_space, hat_alpha, hat_x_min), \n",
        "         label='Estimated PDF', c='tab:orange')\n",
        "plt.xscale('log')\n",
        "plt.yscale('log')\n",
        "plt.ylim(0.001, 0.5);"
      ],
      "execution_count": 51,
      "outputs": [
        {
          "output_type": "stream",
          "text": [
            "/usr/local/lib/python3.7/dist-packages/ipykernel_launcher.py:2: RuntimeWarning: divide by zero encountered in double_scalars\n",
            "  \n",
            "/usr/local/lib/python3.7/dist-packages/ipykernel_launcher.py:3: RuntimeWarning: invalid value encountered in multiply\n",
            "  This is separate from the ipykernel package so we can avoid doing imports until\n"
          ],
          "name": "stderr"
        },
        {
          "output_type": "stream",
          "text": [
            "[  1.   1.   1. ... 233. 234. 347.]\n"
          ],
          "name": "stdout"
        },
        {
          "output_type": "display_data",
          "data": {
            "image/png": "[encoded data removed]",
            "text/plain": [
              "<Figure size 432x288 with 1 Axes>"
            ]
          },
          "metadata": {
            "tags": [],
            "needs_background": "light"
          }
        }
      ]
    },
    {
      "cell_type": "markdown",
      "metadata": {
        "id": "7lc_trfjiIKY"
      },
      "source": [
        "### Task 8. QQ plot (0.6 point)"
      ]
    },
    {
      "cell_type": "markdown",
      "metadata": {
        "id": "iz_txepdiIKY"
      },
      "source": [
        "It might be useful to draw a quantile-quantile plot (QQ plot) to compare empirical and theoretical distributions by the eye. Your task here is to generate Power Law observations by given parameters and compare theoretical and empirical quantiles.\n",
        "\n",
        "Write a function `qqplot_data` that takes $\\alpha$, $x_\\min$, number of observations $n$ that will be generated and returns a tuple with two np.arrays: theoretical quantiles and empirical quantiles. Let quantiles be calculated for probabilities 0, 0.01, 0.02, ..., 0.99.\n",
        "\n",
        "_Hint: to calculate an empirical quantile, use `np.quantile`_"
      ]
    },
    {
      "cell_type": "code",
      "metadata": {
        "deletable": false,
        "nbgrader": {
          "cell_type": "code",
          "checksum": "8eec986886f46027e0d0884381921de0",
          "grade": false,
          "grade_id": "cell-7536b41d94152420",
          "locked": false,
          "schema_version": 3,
          "solution": true,
          "task": false
        },
        "id": "pk57Cpj3iIKZ"
      },
      "source": [
        "def qqplot_data(alpha, x_min, n):\n",
        "    q = np.linspace(0, 0.99, 100)\n",
        "    theoretical = power_law_ppf(q, alpha, x_min)\n",
        "    empirical = np.quantile(power_law_generate(n, alpha, x_min), q)\n",
        "    return theoretical, empirical"
      ],
      "execution_count": 52,
      "outputs": []
    },
    {
      "cell_type": "code",
      "metadata": {
        "deletable": false,
        "editable": false,
        "nbgrader": {
          "cell_type": "code",
          "checksum": "cb13371548049cc2ba8c8b0b2d7117bf",
          "grade": true,
          "grade_id": "cell-cee74bedb007dbfa",
          "locked": true,
          "points": 0.6,
          "schema_version": 3,
          "solution": false,
          "task": false
        },
        "id": "qQVCi8RJiIKZ"
      },
      "source": [
        "x_min = 1\n",
        "alpha = 3.5\n",
        "\n",
        "theor100, empir100 = qqplot_data(alpha, x_min, 100)\n",
        "theor200, empir200 = qqplot_data(alpha, x_min, 200)\n",
        "theor1000, empir1000 = qqplot_data(alpha, x_min, 1000)\n",
        "assert np.linalg.norm(theor1000 - empir1000) < np.linalg.norm(theor200 - empir200)\n",
        "assert np.linalg.norm(theor200 - empir200) < np.linalg.norm(theor100 - empir100)"
      ],
      "execution_count": 53,
      "outputs": []
    },
    {
      "cell_type": "code",
      "metadata": {
        "id": "4rMN_jtQiIKZ",
        "colab": {
          "base_uri": "https://localhost:8080/",
          "height": 241
        },
        "outputId": "48188dbf-0b69-4eca-dedf-84beaf48d0dd"
      },
      "source": [
        "plt.figure(figsize=(12, 3))\n",
        "\n",
        "plt.subplots_adjust(wspace=0.3)\n",
        "\n",
        "plt.subplot(1, 3, 1)\n",
        "plt.scatter(theor100, empir100, s=10)\n",
        "plt.plot([1, 7], [1, 7], '--', c='tab:orange')\n",
        "plt.title('QQ plot, N = 100')\n",
        "plt.xlabel('Theoretical distribution')\n",
        "plt.ylabel('Empirical distribution')\n",
        "plt.axis('square')\n",
        "\n",
        "plt.subplot(1, 3, 2)\n",
        "plt.scatter(theor200, empir200, s=10)\n",
        "plt.plot([1, 7], [1, 7], '--', c='tab:orange')\n",
        "plt.title('QQ plot, N = 200')\n",
        "plt.xlabel('Theoretical distribution')\n",
        "plt.ylabel('Empirical distribution')\n",
        "plt.axis('square')\n",
        "\n",
        "plt.subplot(1, 3, 3)\n",
        "plt.scatter(theor1000, empir1000, s=10)\n",
        "plt.plot([1, 7], [1, 7], '--', c='tab:orange')\n",
        "plt.title('QQ plot, N = 1000')\n",
        "plt.xlabel('Theoretical distribution')\n",
        "plt.ylabel('Empirical distribution')\n",
        "plt.axis('square');"
      ],
      "execution_count": 54,
      "outputs": [
        {
          "output_type": "display_data",
          "data": {
            "image/png": "[encoded data removed]",
            "text/plain": [
              "<Figure size 864x216 with 3 Axes>"
            ]
          },
          "metadata": {
            "tags": [],
            "needs_background": "light"
          }
        }
      ]
    },
    {
      "cell_type": "code",
      "metadata": {
        "id": "9q_DaQtciIKZ"
      },
      "source": [
        ""
      ],
      "execution_count": 54,
      "outputs": []
    }
  ]
}